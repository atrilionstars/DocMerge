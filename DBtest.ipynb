{
 "cells": [
  {
   "cell_type": "code",
   "id": "initial_id",
   "metadata": {
    "collapsed": true,
    "ExecuteTime": {
     "end_time": "2025-07-23T08:12:12.628993Z",
     "start_time": "2025-07-23T08:12:12.276583Z"
    }
   },
   "source": [
    "import chromadb\n",
    "\n",
    "chroma_client = chromadb.ChromaClient()\n",
    "collection = chroma_client.create_collection(name=\"test_information\")\n",
    "collection.add(\n",
    "    ids = [\"id1\", \"id2\"],\n",
    "    document = [\"这是一条关于XH公司的信息:该公司经营情况良好\", \"这是一条关于SH公司的信息:该公司已濒临破产\"]\n",
    ")\n",
    "results = collection.query(\n",
    "    query_texts = [\"将要破产的公司\"],\n",
    "    n_results = 1\n",
    ")\n",
    "print(results)"
   ],
   "outputs": [
    {
     "ename": "AttributeError",
     "evalue": "module 'chromadb' has no attribute 'ChromaClient'",
     "output_type": "error",
     "traceback": [
      "\u001B[31m---------------------------------------------------------------------------\u001B[39m",
      "\u001B[31mAttributeError\u001B[39m                            Traceback (most recent call last)",
      "\u001B[36mCell\u001B[39m\u001B[36m \u001B[39m\u001B[32mIn[4]\u001B[39m\u001B[32m, line 3\u001B[39m\n\u001B[32m      1\u001B[39m \u001B[38;5;28;01mimport\u001B[39;00m\u001B[38;5;250m \u001B[39m\u001B[34;01mchromadb\u001B[39;00m\n\u001B[32m----> \u001B[39m\u001B[32m3\u001B[39m chroma_client = chromadb.ChromaClient()\n\u001B[32m      4\u001B[39m collection = chroma_client.create_collection(name=\u001B[33m\"\u001B[39m\u001B[33mtest_information\u001B[39m\u001B[33m\"\u001B[39m)\n\u001B[32m      5\u001B[39m collection.add(\n\u001B[32m      6\u001B[39m     ids = [\u001B[33m\"\u001B[39m\u001B[33mid1\u001B[39m\u001B[33m\"\u001B[39m, \u001B[33m\"\u001B[39m\u001B[33mid2\u001B[39m\u001B[33m\"\u001B[39m],\n\u001B[32m      7\u001B[39m     document = [\u001B[33m\"\u001B[39m\u001B[33m这是一条关于XH公司的信息:该公司经营情况良好\u001B[39m\u001B[33m\"\u001B[39m, \u001B[33m\"\u001B[39m\u001B[33m这是一条关于SH公司的信息:该公司已濒临破产\u001B[39m\u001B[33m\"\u001B[39m]\n\u001B[32m      8\u001B[39m )\n",
      "\u001B[31mAttributeError\u001B[39m: module 'chromadb' has no attribute 'ChromaClient'"
     ]
    }
   ],
   "execution_count": 4
  },
  {
   "metadata": {
    "ExecuteTime": {
     "end_time": "2025-07-23T08:12:06.254831Z",
     "start_time": "2025-07-23T08:12:06.252546Z"
    }
   },
   "cell_type": "code",
   "source": "",
   "id": "c2798f68be1400a6",
   "outputs": [],
   "execution_count": null
  },
  {
   "metadata": {},
   "cell_type": "code",
   "outputs": [],
   "execution_count": null,
   "source": "",
   "id": "6a51cad760342db5"
  }
 ],
 "metadata": {
  "kernelspec": {
   "display_name": "Python 3",
   "language": "python",
   "name": "python3"
  },
  "language_info": {
   "codemirror_mode": {
    "name": "ipython",
    "version": 2
   },
   "file_extension": ".py",
   "mimetype": "text/x-python",
   "name": "python",
   "nbconvert_exporter": "python",
   "pygments_lexer": "ipython2",
   "version": "2.7.6"
  }
 },
 "nbformat": 4,
 "nbformat_minor": 5
}
